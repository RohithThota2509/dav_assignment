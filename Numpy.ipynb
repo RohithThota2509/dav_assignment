{
  "nbformat": 4,
  "nbformat_minor": 0,
  "metadata": {
    "colab": {
      "provenance": []
    },
    "kernelspec": {
      "name": "python3",
      "display_name": "Python 3"
    },
    "language_info": {
      "name": "python"
    }
  },
  "cells": [
    {
      "cell_type": "code",
      "source": [
        "# Step 1: Upload CSV (run this and upload your file)\n",
        "from google.colab import files\n",
        "uploaded = files.upload()"
      ],
      "metadata": {
        "colab": {
          "base_uri": "https://localhost:8080/",
          "height": 73
        },
        "id": "EMwP1a7rUtcF",
        "outputId": "354da9c4-08d4-4748-e01d-0e3bdd4c4ee1"
      },
      "execution_count": null,
      "outputs": [
        {
          "output_type": "display_data",
          "data": {
            "text/plain": [
              "<IPython.core.display.HTML object>"
            ],
            "text/html": [
              "\n",
              "     <input type=\"file\" id=\"files-060606ad-6c17-4afb-8c04-e45ca6a22008\" name=\"files[]\" multiple disabled\n",
              "        style=\"border:none\" />\n",
              "     <output id=\"result-060606ad-6c17-4afb-8c04-e45ca6a22008\">\n",
              "      Upload widget is only available when the cell has been executed in the\n",
              "      current browser session. Please rerun this cell to enable.\n",
              "      </output>\n",
              "      <script>// Copyright 2017 Google LLC\n",
              "//\n",
              "// Licensed under the Apache License, Version 2.0 (the \"License\");\n",
              "// you may not use this file except in compliance with the License.\n",
              "// You may obtain a copy of the License at\n",
              "//\n",
              "//      http://www.apache.org/licenses/LICENSE-2.0\n",
              "//\n",
              "// Unless required by applicable law or agreed to in writing, software\n",
              "// distributed under the License is distributed on an \"AS IS\" BASIS,\n",
              "// WITHOUT WARRANTIES OR CONDITIONS OF ANY KIND, either express or implied.\n",
              "// See the License for the specific language governing permissions and\n",
              "// limitations under the License.\n",
              "\n",
              "/**\n",
              " * @fileoverview Helpers for google.colab Python module.\n",
              " */\n",
              "(function(scope) {\n",
              "function span(text, styleAttributes = {}) {\n",
              "  const element = document.createElement('span');\n",
              "  element.textContent = text;\n",
              "  for (const key of Object.keys(styleAttributes)) {\n",
              "    element.style[key] = styleAttributes[key];\n",
              "  }\n",
              "  return element;\n",
              "}\n",
              "\n",
              "// Max number of bytes which will be uploaded at a time.\n",
              "const MAX_PAYLOAD_SIZE = 100 * 1024;\n",
              "\n",
              "function _uploadFiles(inputId, outputId) {\n",
              "  const steps = uploadFilesStep(inputId, outputId);\n",
              "  const outputElement = document.getElementById(outputId);\n",
              "  // Cache steps on the outputElement to make it available for the next call\n",
              "  // to uploadFilesContinue from Python.\n",
              "  outputElement.steps = steps;\n",
              "\n",
              "  return _uploadFilesContinue(outputId);\n",
              "}\n",
              "\n",
              "// This is roughly an async generator (not supported in the browser yet),\n",
              "// where there are multiple asynchronous steps and the Python side is going\n",
              "// to poll for completion of each step.\n",
              "// This uses a Promise to block the python side on completion of each step,\n",
              "// then passes the result of the previous step as the input to the next step.\n",
              "function _uploadFilesContinue(outputId) {\n",
              "  const outputElement = document.getElementById(outputId);\n",
              "  const steps = outputElement.steps;\n",
              "\n",
              "  const next = steps.next(outputElement.lastPromiseValue);\n",
              "  return Promise.resolve(next.value.promise).then((value) => {\n",
              "    // Cache the last promise value to make it available to the next\n",
              "    // step of the generator.\n",
              "    outputElement.lastPromiseValue = value;\n",
              "    return next.value.response;\n",
              "  });\n",
              "}\n",
              "\n",
              "/**\n",
              " * Generator function which is called between each async step of the upload\n",
              " * process.\n",
              " * @param {string} inputId Element ID of the input file picker element.\n",
              " * @param {string} outputId Element ID of the output display.\n",
              " * @return {!Iterable<!Object>} Iterable of next steps.\n",
              " */\n",
              "function* uploadFilesStep(inputId, outputId) {\n",
              "  const inputElement = document.getElementById(inputId);\n",
              "  inputElement.disabled = false;\n",
              "\n",
              "  const outputElement = document.getElementById(outputId);\n",
              "  outputElement.innerHTML = '';\n",
              "\n",
              "  const pickedPromise = new Promise((resolve) => {\n",
              "    inputElement.addEventListener('change', (e) => {\n",
              "      resolve(e.target.files);\n",
              "    });\n",
              "  });\n",
              "\n",
              "  const cancel = document.createElement('button');\n",
              "  inputElement.parentElement.appendChild(cancel);\n",
              "  cancel.textContent = 'Cancel upload';\n",
              "  const cancelPromise = new Promise((resolve) => {\n",
              "    cancel.onclick = () => {\n",
              "      resolve(null);\n",
              "    };\n",
              "  });\n",
              "\n",
              "  // Wait for the user to pick the files.\n",
              "  const files = yield {\n",
              "    promise: Promise.race([pickedPromise, cancelPromise]),\n",
              "    response: {\n",
              "      action: 'starting',\n",
              "    }\n",
              "  };\n",
              "\n",
              "  cancel.remove();\n",
              "\n",
              "  // Disable the input element since further picks are not allowed.\n",
              "  inputElement.disabled = true;\n",
              "\n",
              "  if (!files) {\n",
              "    return {\n",
              "      response: {\n",
              "        action: 'complete',\n",
              "      }\n",
              "    };\n",
              "  }\n",
              "\n",
              "  for (const file of files) {\n",
              "    const li = document.createElement('li');\n",
              "    li.append(span(file.name, {fontWeight: 'bold'}));\n",
              "    li.append(span(\n",
              "        `(${file.type || 'n/a'}) - ${file.size} bytes, ` +\n",
              "        `last modified: ${\n",
              "            file.lastModifiedDate ? file.lastModifiedDate.toLocaleDateString() :\n",
              "                                    'n/a'} - `));\n",
              "    const percent = span('0% done');\n",
              "    li.appendChild(percent);\n",
              "\n",
              "    outputElement.appendChild(li);\n",
              "\n",
              "    const fileDataPromise = new Promise((resolve) => {\n",
              "      const reader = new FileReader();\n",
              "      reader.onload = (e) => {\n",
              "        resolve(e.target.result);\n",
              "      };\n",
              "      reader.readAsArrayBuffer(file);\n",
              "    });\n",
              "    // Wait for the data to be ready.\n",
              "    let fileData = yield {\n",
              "      promise: fileDataPromise,\n",
              "      response: {\n",
              "        action: 'continue',\n",
              "      }\n",
              "    };\n",
              "\n",
              "    // Use a chunked sending to avoid message size limits. See b/62115660.\n",
              "    let position = 0;\n",
              "    do {\n",
              "      const length = Math.min(fileData.byteLength - position, MAX_PAYLOAD_SIZE);\n",
              "      const chunk = new Uint8Array(fileData, position, length);\n",
              "      position += length;\n",
              "\n",
              "      const base64 = btoa(String.fromCharCode.apply(null, chunk));\n",
              "      yield {\n",
              "        response: {\n",
              "          action: 'append',\n",
              "          file: file.name,\n",
              "          data: base64,\n",
              "        },\n",
              "      };\n",
              "\n",
              "      let percentDone = fileData.byteLength === 0 ?\n",
              "          100 :\n",
              "          Math.round((position / fileData.byteLength) * 100);\n",
              "      percent.textContent = `${percentDone}% done`;\n",
              "\n",
              "    } while (position < fileData.byteLength);\n",
              "  }\n",
              "\n",
              "  // All done.\n",
              "  yield {\n",
              "    response: {\n",
              "      action: 'complete',\n",
              "    }\n",
              "  };\n",
              "}\n",
              "\n",
              "scope.google = scope.google || {};\n",
              "scope.google.colab = scope.google.colab || {};\n",
              "scope.google.colab._files = {\n",
              "  _uploadFiles,\n",
              "  _uploadFilesContinue,\n",
              "};\n",
              "})(self);\n",
              "</script> "
            ]
          },
          "metadata": {}
        },
        {
          "output_type": "stream",
          "name": "stdout",
          "text": [
            "Saving water_pollution_disease.csv to water_pollution_disease (1).csv\n"
          ]
        }
      ]
    },
    {
      "cell_type": "code",
      "source": [
        "# Step 2: Load libraries\n",
        "import numpy as np\n",
        "import pandas as pd\n",
        "\n",
        "# Step 3: Read CSV\n",
        "df = pd.read_csv('water_pollution_disease.csv')\n",
        "print(\"Dataset Preview:\\n\", df.head())\n",
        "print(\"Columns:\\n\", df.columns)"
      ],
      "metadata": {
        "colab": {
          "base_uri": "https://localhost:8080/"
        },
        "id": "RpMJFILoUv4R",
        "outputId": "891ec640-73b9-4209-fba1-a56d920a0523"
      },
      "execution_count": null,
      "outputs": [
        {
          "output_type": "stream",
          "name": "stdout",
          "text": [
            "Dataset Preview:\n",
            "      Country   Region  Year Water Source Type  Contaminant Level (ppm)  \\\n",
            "0     Mexico    North  2015              Lake                     6.06   \n",
            "1     Brazil     West  2017              Well                     5.24   \n",
            "2  Indonesia  Central  2022              Pond                     0.24   \n",
            "3    Nigeria     East  2016              Well                     7.91   \n",
            "4     Mexico    South  2005              Well                     0.12   \n",
            "\n",
            "   pH Level  Turbidity (NTU)  Dissolved Oxygen (mg/L)  Nitrate Level (mg/L)  \\\n",
            "0      7.12             3.93                     4.28                  8.28   \n",
            "1      7.84             4.79                     3.86                 15.74   \n",
            "2      6.43             0.79                     3.42                 36.67   \n",
            "3      6.71             1.96                     3.12                 36.92   \n",
            "4      8.16             4.22                     9.15                 49.35   \n",
            "\n",
            "   Lead Concentration (µg/L)  ...  Cholera Cases per 100,000 people  \\\n",
            "0                       7.89  ...                                33   \n",
            "1                      14.68  ...                                27   \n",
            "2                       9.96  ...                                39   \n",
            "3                       6.77  ...                                33   \n",
            "4                      12.51  ...                                31   \n",
            "\n",
            "  Typhoid Cases per 100,000 people  \\\n",
            "0                               44   \n",
            "1                                8   \n",
            "2                               50   \n",
            "3                               13   \n",
            "4                               68   \n",
            "\n",
            "   Infant Mortality Rate (per 1,000 live births)  GDP per Capita (USD)  \\\n",
            "0                                          76.16                 57057   \n",
            "1                                          77.30                 17220   \n",
            "2                                          48.45                 86022   \n",
            "3                                          95.66                 31166   \n",
            "4                                          58.78                 25661   \n",
            "\n",
            "   Healthcare Access Index (0-100)  Urbanization Rate (%)  \\\n",
            "0                            96.92                  84.61   \n",
            "1                            84.73                  73.37   \n",
            "2                            58.37                  72.86   \n",
            "3                            39.07                  71.07   \n",
            "4                            23.03                  55.55   \n",
            "\n",
            "   Sanitation Coverage (% of Population)  Rainfall (mm per year)  \\\n",
            "0                                  63.23                    2800   \n",
            "1                                  29.12                    1572   \n",
            "2                                  93.56                    2074   \n",
            "3                                  94.25                     937   \n",
            "4                                  69.23                    2295   \n",
            "\n",
            "   Temperature (°C)  Population Density (people per km²)  \n",
            "0              4.94                                  593  \n",
            "1             16.93                                  234  \n",
            "2             21.73                                   57  \n",
            "3              3.79                                  555  \n",
            "4             31.44                                  414  \n",
            "\n",
            "[5 rows x 24 columns]\n",
            "Columns:\n",
            " Index(['Country', 'Region', 'Year', 'Water Source Type',\n",
            "       'Contaminant Level (ppm)', 'pH Level', 'Turbidity (NTU)',\n",
            "       'Dissolved Oxygen (mg/L)', 'Nitrate Level (mg/L)',\n",
            "       'Lead Concentration (µg/L)', 'Bacteria Count (CFU/mL)',\n",
            "       'Water Treatment Method', 'Access to Clean Water (% of Population)',\n",
            "       'Diarrheal Cases per 100,000 people',\n",
            "       'Cholera Cases per 100,000 people', 'Typhoid Cases per 100,000 people',\n",
            "       'Infant Mortality Rate (per 1,000 live births)', 'GDP per Capita (USD)',\n",
            "       'Healthcare Access Index (0-100)', 'Urbanization Rate (%)',\n",
            "       'Sanitation Coverage (% of Population)', 'Rainfall (mm per year)',\n",
            "       'Temperature (°C)', 'Population Density (people per km²)'],\n",
            "      dtype='object')\n"
          ]
        }
      ]
    },
    {
      "cell_type": "code",
      "source": [
        "# Extract relevant columns as NumPy arrays\n",
        "# Replace 'Disease', 'Cases', 'Location' with actual column names from your CSV\n",
        "diseases = df['Country'].to_numpy()  # Example: Replacing 'Disease' with 'Country'\n",
        "cases = df['Year'].to_numpy()      # Example: Replacing 'Cases' with 'Year'\n",
        "locations = df['Region'].to_numpy()   # Example: Replacing 'Location' with 'Region'\n",
        "\n",
        "print(\"Diseases:\", diseases[:5])\n",
        "print(\"Cases:\", cases[:5])\n",
        "print(\"Locations:\", locations[:5])"
      ],
      "metadata": {
        "colab": {
          "base_uri": "https://localhost:8080/"
        },
        "id": "zg-VxrCJUzrf",
        "outputId": "ab93789b-9393-41ba-86a7-c0219a3ee306"
      },
      "execution_count": null,
      "outputs": [
        {
          "output_type": "stream",
          "name": "stdout",
          "text": [
            "Diseases: ['Mexico' 'Brazil' 'Indonesia' 'Nigeria' 'Mexico']\n",
            "Cases: [2015 2017 2022 2016 2005]\n",
            "Locations: ['North' 'West' 'Central' 'East' 'South']\n"
          ]
        }
      ]
    },
    {
      "cell_type": "code",
      "source": [
        "cases = cases.astype(np.int32)\n",
        "\n",
        "print(\"First case:\", cases[0])\n",
        "print(\"First 5 cases:\", cases[:5])\n",
        "print(\"Sliced cases [2:6]:\", cases[2:6])"
      ],
      "metadata": {
        "colab": {
          "base_uri": "https://localhost:8080/"
        },
        "id": "2-2X_cQTVDQf",
        "outputId": "0276aa7a-4c53-4fbc-f87b-8470638d34da"
      },
      "execution_count": null,
      "outputs": [
        {
          "output_type": "stream",
          "name": "stdout",
          "text": [
            "First case: 2015\n",
            "First 5 cases: [2015 2017 2022 2016 2005]\n",
            "Sliced cases [2:6]: [2022 2016 2005 2013]\n"
          ]
        }
      ]
    },
    {
      "cell_type": "code",
      "source": [
        "reshaped = cases[:12].reshape(3, 4)\n",
        "print(\"Reshaped (3x4):\\n\", reshaped)\n",
        "\n",
        "# Concatenate\n",
        "new_data = np.array([10, 20, 30])\n",
        "concat_cases = np.concatenate([cases[:3], new_data])\n",
        "print(\"Concatenated:\", concat_cases)\n",
        "\n",
        "# Split\n",
        "split_cases = np.array_split(cases[:10], 2)\n",
        "print(\"Split arrays:\", split_cases)"
      ],
      "metadata": {
        "colab": {
          "base_uri": "https://localhost:8080/"
        },
        "id": "p17-6wA7VK1z",
        "outputId": "e528a693-6953-464f-a926-1e7e0db4e8c3"
      },
      "execution_count": null,
      "outputs": [
        {
          "output_type": "stream",
          "name": "stdout",
          "text": [
            "Reshaped (3x4):\n",
            " [[2015 2017 2022 2016]\n",
            " [2005 2013 2022 2024]\n",
            " [2014 2013 2023 2021]]\n",
            "Concatenated: [2015 2017 2022   10   20   30]\n",
            "Split arrays: [array([2015, 2017, 2022, 2016, 2005], dtype=int32), array([2013, 2022, 2024, 2014, 2013], dtype=int32)]\n"
          ]
        }
      ]
    },
    {
      "cell_type": "code",
      "source": [
        "print(\"Square root of cases:\", np.sqrt(cases[:5]))\n",
        "print(\"Sum of all cases:\", np.sum(cases))\n",
        "print(\"Average cases:\", np.mean(cases))\n",
        "print(\"Max cases:\", np.max(cases))\n",
        "print(\"Min cases:\", np.min(cases))"
      ],
      "metadata": {
        "colab": {
          "base_uri": "https://localhost:8080/"
        },
        "id": "oX7gr_WbVNci",
        "outputId": "7edd016a-6bbe-4bea-c938-7ff85a22663f"
      },
      "execution_count": null,
      "outputs": [
        {
          "output_type": "stream",
          "name": "stdout",
          "text": [
            "Square root of cases: [44.88875137 44.91102315 44.96665431 44.89988864 44.77722635]\n",
            "Sum of all cases: 6036038\n",
            "Average cases: 2012.0126666666667\n",
            "Max cases: 2024\n",
            "Min cases: 2000\n"
          ]
        }
      ]
    },
    {
      "cell_type": "code",
      "source": [
        "increased_cases = cases + 5\n",
        "print(\"Increased cases (broadcasted):\", increased_cases[:5])"
      ],
      "metadata": {
        "colab": {
          "base_uri": "https://localhost:8080/"
        },
        "id": "s6_SFASsVQ_E",
        "outputId": "9f7dcfda-cf2e-4acc-d749-704764a118fd"
      },
      "execution_count": null,
      "outputs": [
        {
          "output_type": "stream",
          "name": "stdout",
          "text": [
            "Increased cases (broadcasted): [2020 2022 2027 2021 2010]\n"
          ]
        }
      ]
    },
    {
      "cell_type": "code",
      "source": [
        "high_cases_mask = cases > 50\n",
        "print(\"Boolean Mask (cases > 50):\", high_cases_mask[:10])\n",
        "print(\"Cases > 50:\", cases[high_cases_mask])\n",
        "print(\"Diseases with high cases:\", diseases[high_cases_mask])"
      ],
      "metadata": {
        "colab": {
          "base_uri": "https://localhost:8080/"
        },
        "id": "zwuwBL9bVUVX",
        "outputId": "63471940-2830-4f8a-d0cc-4455fa09e9d2"
      },
      "execution_count": null,
      "outputs": [
        {
          "output_type": "stream",
          "name": "stdout",
          "text": [
            "Boolean Mask (cases > 50): [ True  True  True  True  True  True  True  True  True  True]\n",
            "Cases > 50: [2015 2017 2022 ... 2009 2009 2013]\n",
            "Diseases with high cases: ['Mexico' 'Brazil' 'Indonesia' ... 'USA' 'Pakistan' 'Mexico']\n"
          ]
        }
      ]
    },
    {
      "cell_type": "code",
      "source": [
        "indices = [0, 3, 5]\n",
        "print(\"Fancy Indexed cases:\", cases[indices])\n",
        "print(\"Corresponding diseases:\", diseases[indices])"
      ],
      "metadata": {
        "colab": {
          "base_uri": "https://localhost:8080/"
        },
        "id": "eQNtswziVXPi",
        "outputId": "ce26e95b-d1c3-401e-ee00-d0cf59e93056"
      },
      "execution_count": null,
      "outputs": [
        {
          "output_type": "stream",
          "name": "stdout",
          "text": [
            "Fancy Indexed cases: [2015 2016 2013]\n",
            "Corresponding diseases: ['Mexico' 'Nigeria' 'Ethiopia']\n"
          ]
        }
      ]
    },
    {
      "cell_type": "code",
      "source": [
        "sorted_cases = np.sort(cases)\n",
        "print(\"Sorted cases:\", sorted_cases[:10])\n",
        "\n",
        "sort_indices = np.argsort(cases)\n",
        "print(\"Indices that would sort the array:\", sort_indices[:10])\n",
        "print(\"Top 5 diseases by cases:\", diseases[sort_indices[-5:]][::-1])"
      ],
      "metadata": {
        "colab": {
          "base_uri": "https://localhost:8080/"
        },
        "id": "NFMh4KlqVb0-",
        "outputId": "2d2620b7-b325-4b90-ad1b-8be119e0022a"
      },
      "execution_count": null,
      "outputs": [
        {
          "output_type": "stream",
          "name": "stdout",
          "text": [
            "Sorted cases: [2000 2000 2000 2000 2000 2000 2000 2000 2000 2000]\n",
            "Indices that would sort the array: [2983   21 2165   68 2951   77 2965 2964 2411 1465]\n",
            "Top 5 diseases by cases: ['India' 'Mexico' 'USA' 'Pakistan' 'China']\n"
          ]
        }
      ]
    },
    {
      "cell_type": "code",
      "source": [
        "structured_array = np.array([\n",
        "    (diseases[i], cases[i], locations[i])\n",
        "    for i in range(len(cases))\n",
        "], dtype=[('Disease', 'U30'), ('Cases', 'i4'), ('Location', 'U30')])\n",
        "\n",
        "print(\"Structured array example:\\n\", structured_array[:5])\n",
        "print(\"Access disease from first row:\", structured_array[0]['Disease'])"
      ],
      "metadata": {
        "colab": {
          "base_uri": "https://localhost:8080/"
        },
        "id": "a-zZXlNgVc5t",
        "outputId": "bc828ba7-610c-48cf-c88c-37eb685d7367"
      },
      "execution_count": null,
      "outputs": [
        {
          "output_type": "stream",
          "name": "stdout",
          "text": [
            "Structured array example:\n",
            " [('Mexico', 2015, 'North') ('Brazil', 2017, 'West')\n",
            " ('Indonesia', 2022, 'Central') ('Nigeria', 2016, 'East')\n",
            " ('Mexico', 2005, 'South')]\n",
            "Access disease from first row: Mexico\n"
          ]
        }
      ]
    }
  ]
}